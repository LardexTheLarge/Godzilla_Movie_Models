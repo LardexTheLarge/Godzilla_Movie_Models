{
 "cells": [
  {
   "cell_type": "code",
   "execution_count": 2,
   "metadata": {},
   "outputs": [],
   "source": [
    "import pandas as pd\n",
    "import pickle\n",
    "from sklearn.preprocessing import StandardScaler\n",
    "\n",
    "# Load the pre-trained K-Means model and preprocessor\n",
    "with open('godzilla_cluster_model.pkl', 'rb') as f:\n",
    "    kmeans_model = pickle.load(f)\n",
    "\n",
    "with open('scaler.pkl', 'rb') as f:\n",
    "    scaler = pickle.load(f)"
   ]
  },
  {
   "cell_type": "code",
   "execution_count": 4,
   "metadata": {},
   "outputs": [
    {
     "name": "stdout",
     "output_type": "stream",
     "text": [
      "The new Godzilla movie belongs to cluster: 2\n"
     ]
    }
   ],
   "source": [
    "# Example data for a new Godzilla movie\n",
    "new_movie = pd.DataFrame({\n",
    "    'Movie Budget (USD)': [100000000],  # example budget\n",
    "    'Runtime (mins)': [120], # example runtime\n",
    "    'Godzilla\\'s Sizes (In Meters)': [100],  # example size  \n",
    "    'IMDb Rating': [7.0],  # example IMDb rating\n",
    "    'Rotten Tomatoes Rating': [85],  # example Rotten Tomatoes rating\n",
    "    \n",
    "})\n",
    "\n",
    "# Preprocess the new data\n",
    "new_movie_scaled = scaler.transform(new_movie)\n",
    "\n",
    "# Predict the cluster for the new movie\n",
    "predicted_cluster = kmeans_model.predict(new_movie_scaled)\n",
    "\n",
    "print(f\"The new Godzilla movie belongs to cluster: {predicted_cluster[0]}\")"
   ]
  }
 ],
 "metadata": {
  "kernelspec": {
   "display_name": "base",
   "language": "python",
   "name": "python3"
  },
  "language_info": {
   "codemirror_mode": {
    "name": "ipython",
    "version": 3
   },
   "file_extension": ".py",
   "mimetype": "text/x-python",
   "name": "python",
   "nbconvert_exporter": "python",
   "pygments_lexer": "ipython3",
   "version": "3.11.5"
  }
 },
 "nbformat": 4,
 "nbformat_minor": 2
}
