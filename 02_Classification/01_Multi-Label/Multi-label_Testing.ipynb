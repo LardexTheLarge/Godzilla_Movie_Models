{
 "cells": [
  {
   "cell_type": "code",
   "execution_count": 1,
   "metadata": {},
   "outputs": [],
   "source": [
    "import pandas as pd\n",
    "import numpy as np\n",
    "import pickle\n",
    "from sklearn.preprocessing import StandardScaler, MultiLabelBinarizer\n",
    "from sklearn.compose import ColumnTransformer\n",
    "from sklearn.pipeline import Pipeline\n",
    "from sklearn.ensemble import RandomForestClassifier\n",
    "from sklearn.multioutput import MultiOutputClassifier\n",
    "\n",
    "# Load the trained model, preprocessor, and label binarizer\n",
    "with open('godzilla_multilabel_model.pkl', 'rb') as f:\n",
    "    model = pickle.load(f)\n",
    "with open('preprocessor.pkl', 'rb') as f:\n",
    "    preprocessor = pickle.load(f)\n",
    "with open('mlb.pkl', 'rb') as f:\n",
    "    mlb = pickle.load(f)\n",
    "\n",
    "# Function to preprocess new data and make predictions\n",
    "def predict_genres(new_data):\n",
    "    # Preprocess the new data\n",
    "    new_data_preprocessed = preprocessor.transform(new_data)\n",
    "    \n",
    "    # Make predictions\n",
    "    predicted_genres = model.predict(new_data_preprocessed)\n",
    "    \n",
    "    # Convert predictions to genre labels\n",
    "    predicted_genres_labels = mlb.inverse_transform(predicted_genres)\n",
    "    \n",
    "    return predicted_genres_labels"
   ]
  },
  {
   "cell_type": "code",
   "execution_count": 3,
   "metadata": {},
   "outputs": [
    {
     "name": "stdout",
     "output_type": "stream",
     "text": [
      "Predicted Genres for the new movie: [('Action', 'Adventure', 'Sci-Fi', 'Thriller')]\n"
     ]
    }
   ],
   "source": [
    "# Example usage with a new movie\n",
    "new_movie = pd.DataFrame({\n",
    "    'Movie Budget (USD)': [135000000],  # example budget\n",
    "    'Runtime (mins)': [115],  # example runtime\n",
    "    \"Godzilla's Sizes (In Feet)\": [335],  # example size\n",
    "    'IMDb Rating': [6.2],  # example IMDb rating\n",
    "    'Rotten Tomatoes Rating': [54],  # example Rotten Tomatoes rating\n",
    "    'Year': [2024]  # example release year\n",
    "})\n",
    "\n",
    "predicted_genres = predict_genres(new_movie)\n",
    "print(f\"Predicted Genres for the new movie: {predicted_genres}\")"
   ]
  }
 ],
 "metadata": {
  "kernelspec": {
   "display_name": "base",
   "language": "python",
   "name": "python3"
  },
  "language_info": {
   "codemirror_mode": {
    "name": "ipython",
    "version": 3
   },
   "file_extension": ".py",
   "mimetype": "text/x-python",
   "name": "python",
   "nbconvert_exporter": "python",
   "pygments_lexer": "ipython3",
   "version": "3.11.5"
  }
 },
 "nbformat": 4,
 "nbformat_minor": 2
}
