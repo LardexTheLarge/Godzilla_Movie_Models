{
 "cells": [
  {
   "cell_type": "code",
   "execution_count": 16,
   "metadata": {},
   "outputs": [],
   "source": [
    "import pickle\n",
    "import pandas as pd\n",
    "\n",
    "# Open the pickled model file in read-binary mode\n",
    "with open('godzilla_revenue_model.pkl', 'rb') as f:\n",
    "    loaded_model = pickle.load(f)\n",
    "\n",
    "with open('preprocessor.pkl', 'rb') as f:\n",
    "    loaded_preprocessor = pickle.load(f)\n",
    "\n",
    "# Test the model with new data\n",
    "def predict_revenue(new_data):\n",
    "    # Preprocess new data\n",
    "    new_data_preprocessed = loaded_preprocessor.transform(new_data)\n",
    "    # Predict revenue\n",
    "    predicted_revenue = loaded_model.predict(new_data_preprocessed)\n",
    "    return predicted_revenue"
   ]
  },
  {
   "cell_type": "code",
   "execution_count": 22,
   "metadata": {},
   "outputs": [
    {
     "name": "stdout",
     "output_type": "stream",
     "text": [
      "Predicted Box Office Revenue (USD): 79,377,606.64\n"
     ]
    }
   ],
   "source": [
    "# Example usage with a new movie\n",
    "new_movie = pd.DataFrame({\n",
    "    'Movie Budget (USD)': [100000000],  # example budget\n",
    "    'Era': ['Heisei'],  # example era\n",
    "    'Runtime (mins)': [120],  # example runtime\n",
    "    \"Godzilla's Sizes (In Meters)\": [100],  # example size\n",
    "    'Release Year': [2024]  # example release year\n",
    "})\n",
    "\n",
    "predicted_revenue = predict_revenue(new_movie)\n",
    "print(f\"Predicted Box Office Revenue (USD): {format(predicted_revenue[0], ',.2f')}\")\n"
   ]
  }
 ],
 "metadata": {
  "kernelspec": {
   "display_name": "base",
   "language": "python",
   "name": "python3"
  },
  "language_info": {
   "codemirror_mode": {
    "name": "ipython",
    "version": 3
   },
   "file_extension": ".py",
   "mimetype": "text/x-python",
   "name": "python",
   "nbconvert_exporter": "python",
   "pygments_lexer": "ipython3",
   "version": "3.11.5"
  }
 },
 "nbformat": 4,
 "nbformat_minor": 2
}
