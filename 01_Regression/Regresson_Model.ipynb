{
 "cells": [
  {
   "cell_type": "code",
   "execution_count": 2,
   "metadata": {},
   "outputs": [
    {
     "name": "stderr",
     "output_type": "stream",
     "text": [
      "C:\\Users\\Lardex\\AppData\\Local\\Temp\\ipykernel_22936\\882701441.py:38: SettingWithCopyWarning: \n",
      "A value is trying to be set on a copy of a slice from a DataFrame.\n",
      "Try using .loc[row_indexer,col_indexer] = value instead\n",
      "\n",
      "See the caveats in the documentation: https://pandas.pydata.org/pandas-docs/stable/user_guide/indexing.html#returning-a-view-versus-a-copy\n",
      "  X['Release Year'] = X['Release Date'].dt.year\n"
     ]
    }
   ],
   "source": [
    "import pandas as pd\n",
    "import numpy as np\n",
    "import pickle\n",
    "from sklearn.preprocessing import StandardScaler, OneHotEncoder\n",
    "from sklearn.compose import ColumnTransformer\n",
    "from sklearn.pipeline import Pipeline\n",
    "from sklearn.impute import SimpleImputer\n",
    "from sklearn.model_selection import train_test_split\n",
    "from sklearn.ensemble import RandomForestRegressor\n",
    "from sklearn.metrics import mean_squared_error, r2_score\n",
    "\n",
    "# Load the dataset\n",
    "df = pd.read_excel('../Godzilla.xlsx')\n",
    "\n",
    "# Convert the 'Movie Budget (Yen)' and 'Final Revenue (Yen)' columns to numeric values, removing any non-numeric characters\n",
    "df['Movie Budget (Yen)'] = df['Movie Budget (Yen)'].replace('[\\¥,\\,]', '', regex=True).replace('-', np.nan).astype(float)\n",
    "df['Final Revenue (Yen)'] = df['Final Revenue (Yen)'].replace('[\\¥,\\,]', '', regex=True).replace('-', np.nan).astype(float)\n",
    "\n",
    "# Convert Yen to Dollars (1 USD = 140 JPY)\n",
    "conversion_rate = 140\n",
    "df['Movie Budget (USD)'] = df['Movie Budget (Yen)'] / conversion_rate\n",
    "df['Final Revenue (USD)'] = df['Final Revenue (Yen)'] / conversion_rate\n",
    "\n",
    "# Drop the Yen columns as we are using the USD columns for modeling\n",
    "df = df.drop(columns=['Movie Budget (Yen)', 'Final Revenue (Yen)'])\n",
    "\n",
    "df['Movie Budget (USD)'] = df.groupby('Era')['Movie Budget (USD)'].transform(lambda x: x.fillna(x.mean()))\n",
    "\n",
    "# Select relevant features and target\n",
    "features = ['Movie Budget (USD)', 'Release Date', 'Era', 'Runtime (mins)', \"Godzilla's Sizes (In Meters)\"]\n",
    "target = 'Final Revenue (USD)'\n",
    "\n",
    "# Extract features and target\n",
    "X = df[features]\n",
    "y = df[target]\n",
    "\n",
    "# Convert 'Release Date' to a numerical format (e.g., year only)\n",
    "X['Release Year'] = X['Release Date'].dt.year\n",
    "X = X.drop(columns=['Release Date'])\n",
    "\n",
    "# Define transformers for numerical and categorical features\n",
    "numerical_features = ['Movie Budget (USD)', 'Runtime (mins)', \"Godzilla's Sizes (In Meters)\", 'Release Year']\n",
    "categorical_features = ['Era']"
   ]
  },
  {
   "cell_type": "code",
   "execution_count": 28,
   "metadata": {},
   "outputs": [],
   "source": [
    "numerical_transformer = Pipeline(steps=[\n",
    "    ('imputer', SimpleImputer(strategy='median')),  # Fill missing values with median\n",
    "    ('scaler', StandardScaler())  # Scale numerical values\n",
    "])\n",
    "\n",
    "categorical_transformer = Pipeline(steps=[\n",
    "    ('imputer', SimpleImputer(strategy='most_frequent')),  # Fill missing values with most frequent value\n",
    "    ('onehot', OneHotEncoder(handle_unknown='ignore'))  # Encode categorical values\n",
    "])\n",
    "\n",
    "# Combine transformers into a ColumnTransformer\n",
    "preprocessor = ColumnTransformer(\n",
    "    transformers=[\n",
    "        ('num', numerical_transformer, numerical_features),  # Apply numerical transformer to numerical features\n",
    "        ('cat', categorical_transformer, categorical_features)  # Apply categorical transformer to categorical features\n",
    "    ])"
   ]
  },
  {
   "cell_type": "code",
   "execution_count": 29,
   "metadata": {},
   "outputs": [],
   "source": [
    "X_preprocessed = preprocessor.fit_transform(X)"
   ]
  },
  {
   "cell_type": "code",
   "execution_count": 30,
   "metadata": {},
   "outputs": [],
   "source": [
    "# Split the dataset into training and validation sets\n",
    "X_train, X_test, y_train, y_test = train_test_split(X_preprocessed, y, test_size=0.2, random_state=42)"
   ]
  },
  {
   "cell_type": "code",
   "execution_count": 31,
   "metadata": {},
   "outputs": [],
   "source": [
    "# Train the regression model\n",
    "model = RandomForestRegressor(n_estimators=100, random_state=42)\n",
    "model.fit(X_train, y_train)\n",
    "\n",
    "# Save the trained model and the preprocessor\n",
    "# Save the model\n",
    "with open('godzilla_revenue_model.pkl', 'wb') as f:\n",
    "    pickle.dump(model, f)\n",
    "with open('preprocessor.pkl', 'wb') as f:\n",
    "    pickle.dump(preprocessor, f)"
   ]
  },
  {
   "cell_type": "code",
   "execution_count": 32,
   "metadata": {},
   "outputs": [
    {
     "name": "stdout",
     "output_type": "stream",
     "text": [
      "Mean Squared Error: 318004577942746.9\n",
      "R-squared: 0.7222010945989945\n"
     ]
    }
   ],
   "source": [
    "# Evaluate the model\n",
    "y_pred = model.predict(X_test)\n",
    "mse = mean_squared_error(y_test, y_pred)\n",
    "r2 = r2_score(y_test, y_pred)\n",
    "\n",
    "print(f\"Mean Squared Error: {mse}\")\n",
    "print(f\"R-squared: {r2}\")"
   ]
  }
 ],
 "metadata": {
  "kernelspec": {
   "display_name": "base",
   "language": "python",
   "name": "python3"
  },
  "language_info": {
   "codemirror_mode": {
    "name": "ipython",
    "version": 3
   },
   "file_extension": ".py",
   "mimetype": "text/x-python",
   "name": "python",
   "nbconvert_exporter": "python",
   "pygments_lexer": "ipython3",
   "version": "3.11.5"
  }
 },
 "nbformat": 4,
 "nbformat_minor": 2
}
