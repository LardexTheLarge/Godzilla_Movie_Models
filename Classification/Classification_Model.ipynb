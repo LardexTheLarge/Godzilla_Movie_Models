{
 "cells": [
  {
   "cell_type": "code",
   "execution_count": 34,
   "metadata": {},
   "outputs": [
    {
     "name": "stderr",
     "output_type": "stream",
     "text": [
      "C:\\Users\\Lardex\\AppData\\Local\\Temp\\ipykernel_41544\\3158400424.py:43: FutureWarning: The default of observed=False is deprecated and will be changed to True in a future version of pandas. Pass observed=False to retain current behavior or observed=True to adopt the future default and silence this warning.\n",
      "  df['Movie Budget (USD)'] = df.groupby('Era_bins')['Movie Budget (USD)'].transform(lambda x: x.fillna(x.mean()))\n"
     ]
    }
   ],
   "source": [
    "import pandas as pd\n",
    "import numpy as np\n",
    "import pickle\n",
    "from sklearn.model_selection import train_test_split\n",
    "from sklearn.preprocessing import StandardScaler, OneHotEncoder\n",
    "from sklearn.compose import ColumnTransformer\n",
    "from sklearn.impute import SimpleImputer\n",
    "from sklearn.pipeline import Pipeline\n",
    "from sklearn.ensemble import RandomForestClassifier\n",
    "from sklearn.metrics import classification_report, confusion_matrix, accuracy_score\n",
    "\n",
    "# Load the dataset\n",
    "df = pd.read_excel('../Godzilla.xlsx')\n",
    "\n",
    "# Convert the 'Movie Budget (Yen)' and 'Final Revenue (Yen)' columns to numeric values, removing any non-numeric characters\n",
    "df['Movie Budget (Yen)'] = df['Movie Budget (Yen)'].replace('[\\¥,\\,]', '', regex=True).replace('-', np.nan).astype(float)\n",
    "df['Final Revenue (Yen)'] = df['Final Revenue (Yen)'].replace('[\\¥,\\,]', '', regex=True).replace('-', np.nan).astype(float)\n",
    "\n",
    "# Convert Yen to Dollars (1 USD = 140 JPY)\n",
    "conversion_rate = 140\n",
    "df['Movie Budget (USD)'] = df['Movie Budget (Yen)'] / conversion_rate\n",
    "df['Final Revenue (USD)'] = df['Final Revenue (Yen)'] / conversion_rate\n",
    "\n",
    "era_to_numeric = {\n",
    "    'Showa': 1,\n",
    "    'Heisei': 2,\n",
    "    'Reiwa': 3,\n",
    "    'Milennium': 4,\n",
    "    'Monsterverse': 5,\n",
    "    'Tri-Star': 6\n",
    "    # Add more mappings as needed\n",
    "}\n",
    "\n",
    "# Apply the mapping to the 'Era' column. Unmapped or missing values will become NaN.\n",
    "df['Era'] = df['Era'].map(era_to_numeric)\n",
    "\n",
    "E_bins = pd.cut(df['Era'], bins=6, labels=range(6))\n",
    "df['Era_bins'] = E_bins\n",
    "\n",
    "# Drop the Yen columns as we are using the USD columns for modeling\n",
    "df = df.drop(columns=['Movie Budget (Yen)', 'Final Revenue (Yen)', 'Era'])\n",
    "\n",
    "df['Movie Budget (USD)'] = df.groupby('Era_bins')['Movie Budget (USD)'].transform(lambda x: x.fillna(x.mean()))\n",
    "\n",
    "# Define success based on revenue (e.g., revenue > 50 million)\n",
    "df['Success'] = (df['Final Revenue (USD)'] > 50000000).astype(int)\n",
    "\n",
    "# Select relevant features and target\n",
    "features = ['Movie Budget (USD)', 'Release Date', 'Era_bins', 'Runtime (mins)', \"Godzilla's Sizes (In Meters)\"]\n",
    "target = 'Success'\n",
    "\n",
    "# Handle date feature by extracting the year\n",
    "df['Release Year'] = df['Release Date'].dt.year\n",
    "features.remove('Release Date')\n",
    "features.append('Release Year')\n",
    "\n",
    "# Split the data into training and testing sets\n",
    "X = df[features]\n",
    "y = df[target]\n",
    "\n",
    "# Define transformers for numerical and categorical features\n",
    "numerical_features = ['Movie Budget (USD)', 'Runtime (mins)', \"Godzilla's Sizes (In Meters)\", 'Release Year']\n",
    "categorical_features = ['Era_bins']"
   ]
  },
  {
   "cell_type": "code",
   "execution_count": 35,
   "metadata": {},
   "outputs": [],
   "source": [
    "X_train, X_test, y_train, y_test = train_test_split(X, y, test_size=0.2, random_state=42)\n",
    "\n",
    "numerical_transformer = Pipeline(steps=[\n",
    "    ('imputer', SimpleImputer(strategy='median')),  # Fill missing values with median\n",
    "    ('scaler', StandardScaler())  # Scale numerical values\n",
    "])\n",
    "\n",
    "categorical_transformer = Pipeline(steps=[\n",
    "    ('imputer', SimpleImputer(strategy='most_frequent')),  # Fill missing values with most frequent value\n",
    "    ('onehot', OneHotEncoder(handle_unknown='ignore'))  # Encode categorical values\n",
    "])\n",
    "\n",
    "# Combine transformers into a ColumnTransformer\n",
    "preprocessor = ColumnTransformer(\n",
    "    transformers=[\n",
    "        ('num', numerical_transformer, numerical_features),  # Apply numerical transformer to numerical features\n",
    "        ('cat', categorical_transformer, categorical_features)  # Apply categorical transformer to categorical features\n",
    "    ])\n",
    "\n",
    "# Preprocess the data\n",
    "X_train = preprocessor.fit_transform(X_train)\n",
    "X_test = preprocessor.transform(X_test)"
   ]
  },
  {
   "cell_type": "code",
   "execution_count": 36,
   "metadata": {},
   "outputs": [],
   "source": [
    "model = RandomForestClassifier(n_estimators=300, random_state=42)\n",
    "# Train the model\n",
    "model.fit(X_train, y_train)\n",
    "\n",
    "# Save the trained model and the preprocessor\n",
    "# Save the model\n",
    "with open('godzilla_era_model.pkl', 'wb') as f:\n",
    "    pickle.dump(model, f)\n",
    "with open('preprocessor.pkl', 'wb') as f:\n",
    "    pickle.dump(preprocessor, f)"
   ]
  },
  {
   "cell_type": "code",
   "execution_count": 37,
   "metadata": {},
   "outputs": [
    {
     "name": "stdout",
     "output_type": "stream",
     "text": [
      "Classification Report:\n",
      "               precision    recall  f1-score   support\n",
      "\n",
      "           0       0.86      1.00      0.92         6\n",
      "           1       1.00      0.50      0.67         2\n",
      "\n",
      "    accuracy                           0.88         8\n",
      "   macro avg       0.93      0.75      0.79         8\n",
      "weighted avg       0.89      0.88      0.86         8\n",
      "\n",
      "Confusion Matrix:\n",
      " [[6 0]\n",
      " [1 1]]\n",
      "Accuracy Score: 0.875\n"
     ]
    }
   ],
   "source": [
    "\n",
    "# Make predictions\n",
    "y_pred = model.predict(X_test)\n",
    "\n",
    "# Evaluate the model\n",
    "print(\"Classification Report:\\n\", classification_report(y_test, y_pred))\n",
    "print(\"Confusion Matrix:\\n\", confusion_matrix(y_test, y_pred))\n",
    "print(\"Accuracy Score:\", accuracy_score(y_test, y_pred))"
   ]
  }
 ],
 "metadata": {
  "kernelspec": {
   "display_name": "base",
   "language": "python",
   "name": "python3"
  },
  "language_info": {
   "codemirror_mode": {
    "name": "ipython",
    "version": 3
   },
   "file_extension": ".py",
   "mimetype": "text/x-python",
   "name": "python",
   "nbconvert_exporter": "python",
   "pygments_lexer": "ipython3",
   "version": "3.11.5"
  }
 },
 "nbformat": 4,
 "nbformat_minor": 2
}
