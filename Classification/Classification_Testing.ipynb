{
 "cells": [
  {
   "cell_type": "code",
   "execution_count": 8,
   "metadata": {},
   "outputs": [],
   "source": [
    "import pickle\n",
    "import pandas as pd\n",
    "\n",
    "# Open the pickled model file in read-binary mode\n",
    "with open('godzilla_era_model.pkl', 'rb') as f:\n",
    "    loaded_model = pickle.load(f)\n",
    "\n",
    "with open('preprocessor.pkl', 'rb') as f:\n",
    "    loaded_preprocessor = pickle.load(f)\n",
    "\n",
    "# Test the model with new data\n",
    "def predict_success(new_data):\n",
    "    # Preprocess new data\n",
    "    new_data_preprocessed = loaded_preprocessor.transform(new_data)\n",
    "    # Predict revenue\n",
    "    predicted_revenue = loaded_model.predict(new_data_preprocessed)\n",
    "    return predicted_revenue"
   ]
  },
  {
   "cell_type": "code",
   "execution_count": 10,
   "metadata": {},
   "outputs": [
    {
     "name": "stdout",
     "output_type": "stream",
     "text": [
      "Predicted Success: Yes\n"
     ]
    }
   ],
   "source": [
    "# Example usage with a new movie\n",
    "new_movie = pd.DataFrame({\n",
    "    'Movie Budget (USD)': [100000000],  # example budget\n",
    "    'Era_bins': ['Tri-star'],  # example era\n",
    "    'Runtime (mins)': [120],  # example runtime\n",
    "    \"Godzilla's Sizes (In Meters)\": [200],  # example size\n",
    "    'Release Year': [2024]  # example release year\n",
    "})\n",
    "\n",
    "try:\n",
    "    predicted_success = predict_success(new_movie)\n",
    "    print(f\"Predicted Success: {'Yes' if predicted_success[0] else 'No'}\")\n",
    "except ValueError as e:\n",
    "    print(e)"
   ]
  }
 ],
 "metadata": {
  "kernelspec": {
   "display_name": "base",
   "language": "python",
   "name": "python3"
  },
  "language_info": {
   "codemirror_mode": {
    "name": "ipython",
    "version": 3
   },
   "file_extension": ".py",
   "mimetype": "text/x-python",
   "name": "python",
   "nbconvert_exporter": "python",
   "pygments_lexer": "ipython3",
   "version": "3.11.5"
  }
 },
 "nbformat": 4,
 "nbformat_minor": 2
}
